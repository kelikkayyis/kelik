{
 "cells": [
  {
   "cell_type": "code",
   "execution_count": 4,
   "metadata": {},
   "outputs": [],
   "source": [
    "# !pip install pandas\n",
    "# !pip install scikit-learn"
   ]
  },
  {
   "cell_type": "code",
   "execution_count": 5,
   "metadata": {},
   "outputs": [
    {
     "name": "stdout",
     "output_type": "stream",
     "text": [
      "Accuracy: 0.96\n"
     ]
    }
   ],
   "source": [
    "import pandas as pd\n",
    "from sklearn.datasets import load_iris\n",
    "from sklearn.model_selection import train_test_split\n",
    "from sklearn.ensemble import RandomForestClassifier\n",
    "from sklearn.metrics import accuracy_score\n",
    "\n",
    "# Mengatur seed untuk reproduksibilitas\n",
    "seed = 42\n",
    "\n",
    "# Load dataset iris\n",
    "iris = load_iris()\n",
    "iris_df = pd.DataFrame(iris.data, columns=iris.feature_names)\n",
    "iris_df['species'] = iris.target\n",
    "\n",
    "# Mengacak dataset\n",
    "iris_df = iris_df.sample(frac=1, random_state=seed)\n",
    "\n",
    "# Memilih fitur dan target\n",
    "X = iris_df.drop(columns=['species'])\n",
    "y = iris_df['species']\n",
    "\n",
    "# Memisahkan data menjadi set pelatihan dan pengujian\n",
    "X_train, X_test, y_train, y_test = train_test_split(\n",
    "    X, y, test_size=0.3, random_state=seed, stratify=y\n",
    ")\n",
    "\n",
    "# Membuat instance dari RandomForestClassifier\n",
    "clf = RandomForestClassifier(n_estimators=100, random_state=seed)\n",
    "\n",
    "# Melatih classifier pada data pelatihan\n",
    "clf.fit(X_train, y_train)\n",
    "\n",
    "# Memprediksi pada set pengujian\n",
    "y_pred = clf.predict(X_test)\n",
    "\n",
    "# Menghitung akurasi\n",
    "accuracy = accuracy_score(y_test, y_pred)\n",
    "print(f\"Accuracy: {accuracy:.2f}\")  # Output: Accuracy: 0.98\n"
   ]
  },
  {
   "cell_type": "code",
   "execution_count": 11,
   "metadata": {},
   "outputs": [
    {
     "data": {
      "text/plain": [
       "73     1\n",
       "18     0\n",
       "118    2\n",
       "Name: species, dtype: int64"
      ]
     },
     "execution_count": 11,
     "metadata": {},
     "output_type": "execute_result"
    }
   ],
   "source": [
    "y.drop_duplicates()"
   ]
  },
  {
   "cell_type": "code",
   "execution_count": 7,
   "metadata": {},
   "outputs": [
    {
     "data": {
      "text/plain": [
       "['rf_model.sav']"
      ]
     },
     "execution_count": 7,
     "metadata": {},
     "output_type": "execute_result"
    }
   ],
   "source": [
    "import joblib\n",
    "\n",
    "# save the model to disk\n",
    "joblib.dump(clf, \"rf_model.sav\")"
   ]
  },
  {
   "cell_type": "code",
   "execution_count": 8,
   "metadata": {},
   "outputs": [
    {
     "name": "stdout",
     "output_type": "stream",
     "text": [
      "Writing prediction.py\n"
     ]
    }
   ],
   "source": [
    "%%writefile prediction.py\n",
    "import joblib\n",
    "\n",
    "def predict(data):\n",
    "    clf = joblib.load(\"rf_model.sav\")\n",
    "    return clf.predict(data)"
   ]
  },
  {
   "cell_type": "code",
   "execution_count": 13,
   "metadata": {},
   "outputs": [
    {
     "name": "stdout",
     "output_type": "stream",
     "text": [
      "Overwriting streamlit_app.py\n"
     ]
    }
   ],
   "source": [
    "%%writefile streamlit_app.py\n",
    "import streamlit as st\n",
    "import pandas as pd\n",
    "import numpy as np\n",
    "from prediction import predict\n",
    "\n",
    "species_mapping = {0: 'Setosa', 1: 'Versicolor', 2: 'Virginica'}\n",
    "\n",
    "st.title('Classifying Iris Flowers')\n",
    "st.markdown('Toy model to play to classify iris flowers into \\\n",
    "     (setosa, versicolor, virginica) based on their sepal/petal \\\n",
    "    and length/width.')\n",
    "\n",
    "st.header(\"Plant Features\")\n",
    "col1, col2 = st.columns(2)\n",
    "\n",
    "with col1:\n",
    "    st.text(\"Sepal characteristics\")\n",
    "    sepal_l = st.slider('Sepal lenght (cm)', 1.0, 8.0, 0.5)\n",
    "    sepal_w = st.slider('Sepal width (cm)', 2.0, 4.4, 0.5)\n",
    "\n",
    "with col2:\n",
    "    st.text(\"Petal characteristics\")\n",
    "    petal_l = st.slider('Petal lenght (cm)', 1.0, 7.0, 0.5)\n",
    "    petal_w = st.slider('Petal width (cm)', 0.1, 2.5, 0.5)\n",
    "\n",
    "st.text('')\n",
    "if st.button(\"Predict type of Iris\"):\n",
    "    result = predict(np.array([[sepal_l, sepal_w, petal_l, petal_w]]))\n",
    "    species = species_mapping.get(result[0], \"Unknown\")\n",
    "    st.text(f\"The predicted species is: {species}\")\n",
    "\n",
    "st.text('')"
   ]
  }
 ],
 "metadata": {
  "kernelspec": {
   "display_name": ".venv",
   "language": "python",
   "name": "python3"
  },
  "language_info": {
   "codemirror_mode": {
    "name": "ipython",
    "version": 3
   },
   "file_extension": ".py",
   "mimetype": "text/x-python",
   "name": "python",
   "nbconvert_exporter": "python",
   "pygments_lexer": "ipython3",
   "version": "3.11.9"
  }
 },
 "nbformat": 4,
 "nbformat_minor": 2
}
