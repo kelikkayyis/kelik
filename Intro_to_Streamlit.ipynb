{
 "cells": [
  {
   "cell_type": "markdown",
   "id": "ae42aac4",
   "metadata": {
    "id": "ae42aac4"
   },
   "source": [
    "# <div style=\"background-color: #63ebc6;font-family: 'Roboto', sans-serif;border-radius: 10px; padding: 12px;color:#ffffff; line-height: .5;\"> Introduction to Streamlit </div>\n",
    "![streamlit-logo-primary-colormark-darktext.svg](data:image/svg+xml;base64,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)\n",
    "\n",
    "Streamlit adalah salah satu python package yang digunakan untuk membuat webapp sederhana, keunggulan streamlit antaralain proses pembelajaran / learning curve nya tidak terlalu sulit, dan komunitas penggunanya cukup besar sehingga memudahkan jika ada error. \n",
    "\n",
    "\n",
    "\n"
   ]
  },
  {
   "cell_type": "markdown",
   "id": "6202e94b",
   "metadata": {
    "id": "6202e94b"
   },
   "source": [
    "## <div style=\"background-color: #63ebc6;font-family: 'Roboto', sans-serif;border-radius: 10px; padding: 12px;color:#ffffff; line-height: .5;\"> 1. Setting up Streamlit (Google Collab) </div>\n",
    "\n",
    "Secara umum streamlit biasanya di execute dari sebuah python script. Selain dengan script kita bisa juga menjalankan streamlit web app dari jupyter notebook / lab dengan menggunakan localtunnel + ngrok(pyngrok)\n",
    "\n",
    "Tahapan : \n",
    "1. Instalasi streamlit dan pyngrok\n",
    "```python\n",
    "!pip install streamlit \n",
    "!pip install pyngrok\n",
    "```\n",
    "2. Create User ngrok https://dashboard.ngrok.com/login, sementara menggunakan token yang ada di google collab ini, Copy Auth Token \n",
    "```\n",
    "!./ngrok authtokens token \n",
    "```\n",
    "3. Membuat Public URL tunnel melalui pyngrok\n",
    "```\n",
    "from pyngrok import ngrok \n",
    "public_url = ngrok.connect(port='PORTNUM')\n",
    "public_url\n",
    "```\n",
    "\n",
    "3. Membuat python script di Google Collab , dengan command %%writefile  namafile.py e.g. %%write webapp.py\n",
    "```python\n",
    "%%writefile  webapp.py \n",
    "#---CODE BLOCK--\n",
    "```\n",
    "\n",
    "4. Menjalankan Streamlit Web App : \n",
    "jika menjalankan langsung di code editor PC (local) \n",
    "cukup menjalankannya dengan : \n",
    "```python \n",
    "streamlit run webapp.py \n",
    "```\n",
    "jika di jupyter notebook / google collab , menambahkan npx localtunnel --port [PORTNUM] \n",
    "```python\n",
    "streamlit run webapp.py & npx localtunnel --port 5050\n",
    "```\n",
    "\n",
    "GASS Langsung Praktek"
   ]
  },
  {
   "cell_type": "markdown",
   "id": "bb095c1c",
   "metadata": {},
   "source": [
    "## <div style=\"background-color: #63ebc6;font-family: 'Roboto', sans-serif;border-radius: 10px; padding: 12px;color:#ffffff; line-height: .5;\"> 1. Setting up Streamlit (Google Collab) </div>\n",
    "\n",
    "Secara umum streamlit biasanya di execute dari sebuah python script. Selain dengan script kita bisa juga menjalankan streamlit web app dari jupyter notebook / lab dengan menggunakan localtunnel + ngrok(pyngrok)\n",
    "\n",
    "Tahapan : \n",
    "1. Instalasi streamlit \n",
    "```python\n",
    "!pip install streamlit ```\n",
    "\n",
    "2. Membuat python script di Jupyter Notebook , dengan command %%writefile  namafile.py e.g. %%write webapp.py\n",
    "```python\n",
    "%%writefile  webapp.py \n",
    "#---CODE BLOCK--\n",
    "```\n",
    "\n",
    "3. Menjalankan Streamlit Web App : \n",
    "jika menjalankan langsung di code editor PC (local) \n",
    "cukup menjalankannya dengan : \n",
    "```python \n",
    "streamlit run webapp.py \n",
    "```\n",
    "\n",
    "\n",
    "\n",
    "GASS Langsung Praktek"
   ]
  },
  {
   "cell_type": "code",
   "execution_count": 1,
   "id": "cCFB8I_KxMMt",
   "metadata": {
    "colab": {
     "base_uri": "https://localhost:8080/"
    },
    "id": "cCFB8I_KxMMt",
    "outputId": "77fd3aab-28d5-42a9-cef5-bd49f5462e15"
   },
   "outputs": [],
   "source": [
    "# !pip install streamlit\n",
    "# !./ngrok authtokens 2FheBgtEL27jVwpn71nwAdQmewr_3UyYT7WWRyFbtED5aJiYX \n",
    "# !pip install pyngrok \n"
   ]
  },
  {
   "cell_type": "code",
   "execution_count": 2,
   "id": "JezgFiPz30t6",
   "metadata": {
    "colab": {
     "base_uri": "https://localhost:8080/"
    },
    "id": "JezgFiPz30t6",
    "outputId": "800ec1d6-cb23-4dd1-e01f-f9d6a5bec6cd"
   },
   "outputs": [],
   "source": [
    "# from pyngrok import ngrok \n",
    "# public_url = ngrok.connect(port='8501')\n",
    "# public_url"
   ]
  },
  {
   "cell_type": "code",
   "execution_count": 1,
   "id": "48502d43",
   "metadata": {
    "colab": {
     "base_uri": "https://localhost:8080/"
    },
    "id": "48502d43",
    "outputId": "5ec51583-6351-4574-8409-80a831daf2a4"
   },
   "outputs": [
    {
     "name": "stdout",
     "output_type": "stream",
     "text": [
      "Writing webapp.py\n"
     ]
    }
   ],
   "source": [
    "%%writefile  streamlit_app.py \n",
    "import streamlit as st \n",
    "\n",
    "def main() : \n",
    "  st.write('Minimal Example')\n",
    "\n",
    "if __name__ == '__main__' : \n",
    "  main()"
   ]
  },
  {
   "cell_type": "code",
   "execution_count": 2,
   "id": "2phHv-KbyJnM",
   "metadata": {
    "colab": {
     "base_uri": "https://localhost:8080/"
    },
    "id": "2phHv-KbyJnM",
    "outputId": "69648e6d-6db5-4729-bfa2-881244d50941"
   },
   "outputs": [
    {
     "name": "stdout",
     "output_type": "stream",
     "text": [
      "^C\n"
     ]
    }
   ],
   "source": [
    "# !streamlit run webapp.py & npx localtunnel --port 8501 \n",
    "# !streamlit run webapp.py"
   ]
  },
  {
   "cell_type": "markdown",
   "id": "VGG7GBU-7Kdc",
   "metadata": {
    "id": "VGG7GBU-7Kdc"
   },
   "source": [
    "## <div style=\"background-color: #63ebc6;font-family: 'Roboto', sans-serif;border-radius: 10px; padding: 12px;color:#ffffff; line-height: .5;\"> 2. Streamlit Components </div>"
   ]
  },
  {
   "cell_type": "markdown",
   "id": "5v_6IVsi7-Am",
   "metadata": {
    "id": "5v_6IVsi7-Am"
   },
   "source": [
    "### <div style=\"background-color: #63ebc6;font-family: 'Roboto', sans-serif;border-radius: 10px; padding: 12px;color:#ffffff; line-height: .5;\"> 2.1. Text Element </div>\n",
    "\n",
    "\n",
    "\n",
    "1.   Menuliskan Markdown File  : ```  st.markdown()```\n",
    "2.   Header, Subheader, Caption : ``` st.header(),st.subheader(),st.caption()```\n",
    "3.   Code Block , Text : \n",
    "4.   LaTeX (Scientific Notation)\n",
    "\n",
    "\n",
    "\n"
   ]
  },
  {
   "cell_type": "code",
   "execution_count": 3,
   "id": "klWXDkT6E2i-",
   "metadata": {
    "colab": {
     "base_uri": "https://localhost:8080/"
    },
    "id": "klWXDkT6E2i-",
    "outputId": "7319e9c5-a406-4cc1-c919-48d4a593fb04"
   },
   "outputs": [
    {
     "name": "stdout",
     "output_type": "stream",
     "text": [
      "Overwriting streamlit_app.py\n"
     ]
    }
   ],
   "source": [
    "%%writefile  streamlit_app.py \n",
    "import streamlit as st \n",
    "\n",
    "def main() : \n",
    "  st.header('This is Header')\n",
    "  st.subheader('This is SubHeader')\n",
    "  st.markdown('# Rendering Markdown ')\n",
    "  st.write('Some Phytagorean Equation : ')\n",
    "  st.latex('c^2 = a^2+b^2')\n",
    "\n",
    "if __name__ == '__main__' : \n",
    "  main()"
   ]
  },
  {
   "cell_type": "code",
   "execution_count": 4,
   "id": "Fr7ek8BIG-IG",
   "metadata": {
    "colab": {
     "base_uri": "https://localhost:8080/"
    },
    "id": "Fr7ek8BIG-IG",
    "outputId": "5346eaf9-e820-4527-a9d1-0a4353c3112f"
   },
   "outputs": [
    {
     "name": "stdout",
     "output_type": "stream",
     "text": [
      "^C\n"
     ]
    }
   ],
   "source": [
    "#!streamlit run webapp.py & npx localtunnel --port 8501 \n",
    "# !streamlit run webapp.py"
   ]
  },
  {
   "cell_type": "markdown",
   "id": "adNKmF6d8HH7",
   "metadata": {
    "id": "adNKmF6d8HH7"
   },
   "source": [
    "### <div style=\"background-color: #63ebc6;font-family: 'Roboto', sans-serif;border-radius: 10px; padding: 12px;color:#ffffff; line-height: .5;\"> 2.2. Data Display Element </div>\n",
    "\n",
    "\n",
    "Cara Menampilkan Data Dalam Streamlit -> \n",
    "\n",
    "\n",
    "1.   DataFrame ```st.dataframe()```\n",
    "2.   Streamlit Table  ```st.table()```\n",
    "3.   Metrics ```st.metrics()```\n",
    "3.   JSON File ``` st.json() ``` \n",
    "4.   **Additional Instalation** streamlit-aggrid Components\n",
    "\n",
    "      ```python \n",
    "      !pip install streamlit-aggrid\n",
    "      ```\n",
    "\n"
   ]
  },
  {
   "cell_type": "code",
   "execution_count": 34,
   "id": "uBYIcyL7I5So",
   "metadata": {
    "colab": {
     "base_uri": "https://localhost:8080/"
    },
    "id": "uBYIcyL7I5So",
    "outputId": "2e61fe47-845f-4ade-f764-41b966711065"
   },
   "outputs": [
    {
     "name": "stdout",
     "output_type": "stream",
     "text": [
      "Overwriting webapp.py\n"
     ]
    }
   ],
   "source": [
    "%%writefile  streamlit_app.py \n",
    "import streamlit as st \n",
    "import pandas as pd \n",
    "import requests\n",
    "from st_aggrid import AgGrid\n",
    "#baca dataframe dari file csv \n",
    "titanic = pd.read_csv('https://raw.githubusercontent.com/mofdac/-materi-das/main/01.%20Python%20for%20DA/titanic.csv')\n",
    "#read json file dari data covid \n",
    "flight_passanger_api = requests.post('https://forecastpassengerapi.herokuapp.com/forecast_timeseries',json={\n",
    "  \"month_limit\": \"2020-01-01\",\n",
    "  \"window_size\": 12\n",
    "}).json()\n",
    "\n",
    "def main() : \n",
    "  st.write('Contoh dataframe')\n",
    "  st.dataframe(titanic)\n",
    "  st.write('Contoh JSON')\n",
    "  st.json(flight_passanger_api)\n",
    "  st.write('Metrics')\n",
    "  st.metric(label=\"Temperature\", value=\"70 °F\", delta=\"1.2 °F\")\n",
    "  st.write('Menampilkan Dataframe dengan St AgGrid')\n",
    "  AgGrid(titanic)\n",
    "  st.table([x for x in range(1,5)])\n",
    "if __name__ == '__main__' : \n",
    "  main()"
   ]
  },
  {
   "cell_type": "code",
   "execution_count": 35,
   "id": "d2e14fa1",
   "metadata": {},
   "outputs": [
    {
     "name": "stdout",
     "output_type": "stream",
     "text": [
      "^C\n"
     ]
    }
   ],
   "source": [
    "# !streamlit run streamlit_app.py"
   ]
  },
  {
   "cell_type": "markdown",
   "id": "O7eEvs3a8N8H",
   "metadata": {
    "id": "O7eEvs3a8N8H"
   },
   "source": [
    "### <div style=\"background-color: #63ebc6;font-family: 'Roboto', sans-serif;border-radius: 10px; padding: 12px;color:#ffffff; line-height: .5;\"> 2.3.Chart Element </div>\n",
    "\n",
    "1. Builtin Streamlit (linechart,areachart,barchart)\n",
    "2. Dari Package lain (Plotly, Matplotlib,Vega,Bokeh,Pydeck,Graphviz)\n"
   ]
  },
  {
   "cell_type": "code",
   "execution_count": 5,
   "id": "30f2f66c",
   "metadata": {
    "ExecuteTime": {
     "end_time": "2022-11-10T04:06:01.445869Z",
     "start_time": "2022-11-10T04:06:01.436856Z"
    }
   },
   "outputs": [
    {
     "name": "stdout",
     "output_type": "stream",
     "text": [
      "Overwriting streamlit_app.py\n"
     ]
    }
   ],
   "source": [
    "%%writefile  streamlit_app.py \n",
    "import streamlit as st \n",
    "import plotly.express as px \n",
    "import matplotlib.pyplot as plt\n",
    "import pandas as pd \n",
    "import requests\n",
    "from st_aggrid import AgGrid\n",
    "\n",
    "#baca dataframe dari file csv \n",
    "titanic = pd.read_csv('https://raw.githubusercontent.com/mofdac/-materi-das/main/01.%20Python%20for%20DA/titanic.csv')\n",
    "\n",
    "def main() : \n",
    "    #matplotlib chart\n",
    "    st.subheader('Matplotlib')\n",
    "    fig,ax = plt.subplots()\n",
    "    plt.scatter(titanic['Age'],titanic['Fare'])\n",
    "    st.pyplot(fig)\n",
    "\n",
    "    st.subheader('Plotly')\n",
    "    plotly_fig = px.scatter(titanic['Age'],titanic['Fare'])\n",
    "    st.plotly_chart(plotly_fig)\n",
    "if __name__ == '__main__' : \n",
    "    main()"
   ]
  },
  {
   "cell_type": "code",
   "execution_count": 3,
   "id": "70425f0f",
   "metadata": {
    "ExecuteTime": {
     "end_time": "2022-11-10T04:07:32.477595Z",
     "start_time": "2022-11-10T04:06:03.316524Z"
    }
   },
   "outputs": [
    {
     "name": "stdout",
     "output_type": "stream",
     "text": [
      "^C\n"
     ]
    }
   ],
   "source": [
    "# !streamlit run webapp.py"
   ]
  },
  {
   "cell_type": "code",
   "execution_count": 6,
   "id": "bd2707d9",
   "metadata": {},
   "outputs": [],
   "source": [
    "# import pandas as pd \n",
    "# titanic = pd.read_csv('https://raw.githubusercontent.com/mofdac/-materi-das/main/01.%20Python%20for%20DA/titanic.csv')"
   ]
  },
  {
   "cell_type": "code",
   "execution_count": 7,
   "id": "eb41fb8d",
   "metadata": {},
   "outputs": [],
   "source": [
    "# import plotly.express as px \n",
    "# px.scatter(titanic['Age'],titanic['Fare'])"
   ]
  },
  {
   "cell_type": "markdown",
   "id": "hBbxWnCL8jYO",
   "metadata": {
    "id": "hBbxWnCL8jYO"
   },
   "source": [
    "### <div style=\"background-color: #63ebc6;font-family: 'Roboto', sans-serif;border-radius: 10px; padding: 12px;color:#ffffff; line-height: .5;\"> 2.4.Input Widget </div>\n",
    "Komponen yang akan sering digunakan : \n",
    "1. Button ```python st.button()```\n",
    "2. Checkbox ```python st.checkbox()```\n",
    "3. Selectbox ```python st.selectbox()```\n",
    "4. Select and MultiSelect\n",
    "5. Slider \n",
    "6. Input (Date,Text Input,Num Input)"
   ]
  },
  {
   "cell_type": "code",
   "execution_count": 8,
   "id": "59cba23e",
   "metadata": {},
   "outputs": [
    {
     "name": "stdout",
     "output_type": "stream",
     "text": [
      "Overwriting streamlit_app.py\n"
     ]
    }
   ],
   "source": [
    "%%writefile  streamlit_app.py \n",
    "import streamlit as st \n",
    "\n",
    "\n",
    "def main() : \n",
    "    click_me_btn = st.button('Click Me')\n",
    "    st.write(click_me_btn) #Return True kalo di Click \n",
    "    check_btn = st.checkbox('Klik Jika Setuju')\n",
    "    if check_btn :\n",
    "        st.write('Anda Setuju')\n",
    "    \n",
    "    \n",
    "    radio_button= st.radio('Choose below',[x for x in range(1,3)])\n",
    "    st.write('Anda Memilih',radio_button)\n",
    "    \n",
    "    #slider \n",
    "    age_slider = st.slider('Berapa Usia Anda',0,100)\n",
    "    st.write('Usia Anda',age_slider)\n",
    "    \n",
    "    #Input (Typing)\n",
    "    num_input = st.number_input('Input Berapapun')\n",
    "    st.write('Kuadrat dari {} adalah {}'.format(num_input,num_input**2))\n",
    "if __name__ == '__main__' : \n",
    "  main()"
   ]
  },
  {
   "cell_type": "code",
   "execution_count": 77,
   "id": "3a6bd414",
   "metadata": {},
   "outputs": [
    {
     "name": "stdout",
     "output_type": "stream",
     "text": [
      "^C\n"
     ]
    }
   ],
   "source": [
    "!streamlit run webapp.py"
   ]
  },
  {
   "cell_type": "markdown",
   "id": "a623zR_U8teF",
   "metadata": {
    "id": "a623zR_U8teF"
   },
   "source": [
    "### <div style=\"background-color: #63ebc6;font-family: 'Roboto', sans-serif;border-radius: 10px; padding: 12px;color:#ffffff; line-height: .5;\"> 2.5.Layouting </div>\n",
    "Streamlit Menyediakan Opsi Layout Tersendiri agar tampilan web app kita lebih rapi\n",
    "1. Sidebar\n",
    "2. Columns\n",
    "3. Tabs\n",
    "4. Expander"
   ]
  },
  {
   "cell_type": "code",
   "execution_count": 9,
   "id": "82d15872",
   "metadata": {},
   "outputs": [
    {
     "name": "stdout",
     "output_type": "stream",
     "text": [
      "Overwriting streamlit_app.py\n"
     ]
    }
   ],
   "source": [
    "%%writefile  streamlit_app.py \n",
    "import streamlit as st \n",
    "\n",
    "def main() : \n",
    "    #sidebar \n",
    "    sidebar_checkbox = st.sidebar.checkbox('Checkbox di Sidebar')\n",
    "    sidebar_radio_button = st.sidebar.radio('Pilih Menu',options=['A','B','C'])\n",
    "    \n",
    "    #columns :\n",
    "    col1, col2, col3 = st.columns(3)\n",
    "\n",
    "    with col1:\n",
    "       st.header(\"A cat\")\n",
    "       st.image(\"https://static.streamlit.io/examples/cat.jpg\")\n",
    "    #atau dengan assignment \n",
    "    image_col1 = col1.image(\"https://static.streamlit.io/examples/cat.jpg\")\n",
    "\n",
    "    with col2:\n",
    "       st.header(\"A dog\")\n",
    "       st.image(\"https://static.streamlit.io/examples/dog.jpg\")\n",
    "\n",
    "    with col3:\n",
    "       st.header(\"An owl\")\n",
    "       st.image(\"https://static.streamlit.io/examples/owl.jpg\")\n",
    "    #expander \n",
    "    #dengan with atau dengan assignment \n",
    "    expander = st.expander(\"Klik Untuk Detail \")\n",
    "    expander.write('Anda Telah Membuka Detail')\n",
    "    \n",
    "if __name__ == '__main__' : \n",
    "  main()"
   ]
  },
  {
   "cell_type": "code",
   "execution_count": 4,
   "id": "3c55c4e1",
   "metadata": {},
   "outputs": [
    {
     "name": "stdout",
     "output_type": "stream",
     "text": [
      "^C\n"
     ]
    }
   ],
   "source": [
    "!streamlit run webapp.py"
   ]
  },
  {
   "cell_type": "markdown",
   "id": "P0jaC64y8ygY",
   "metadata": {
    "id": "P0jaC64y8ygY"
   },
   "source": [
    "### <div style=\"background-color: #63ebc6;font-family: 'Roboto', sans-serif;border-radius: 10px; padding: 12px;color:#ffffff; line-height: .5;\"> 2.6.Control Flow </div>\n",
    "\n",
    "Dalam Membuat Web App yang menampilkan hasil prediksi prediksi model, biasanya kita diminta untuk menginput variabel-variabelnya.. ini bisa kita gunakan menggunakan form -> trigger prediksi "
   ]
  },
  {
   "cell_type": "code",
   "execution_count": null,
   "id": "6252ae9f",
   "metadata": {},
   "outputs": [],
   "source": [
    "%%writefile  streamlit_app.py \n",
    "import streamlit as st \n",
    "\n",
    "\n",
    "\n",
    "\n",
    "def main() : \n",
    "    #sidebar \n",
    "    with st.form(\"Data Diri\"):\n",
    "       st.write(\"Inside the form\")\n",
    "       slider_val = st.slider(\"Form slider\")\n",
    "       checkbox_val = st.checkbox(\"Form checkbox\")\n",
    "\n",
    "       # Every form must have a submit button.\n",
    "       submitted = st.form_submit_button(\"Submit\")\n",
    "       if submitted:\n",
    "           st.write(\"slider\", slider_val, \"checkbox\", checkbox_val)\n",
    "\n",
    "    st.write(\"Outside the form\")\n",
    "if __name__ == '__main__' : \n",
    "  main()"
   ]
  },
  {
   "cell_type": "code",
   "execution_count": 13,
   "id": "45b1f451",
   "metadata": {},
   "outputs": [
    {
     "name": "stdout",
     "output_type": "stream",
     "text": [
      "Overwriting streamlit_app.py\n"
     ]
    }
   ],
   "source": [
    "%%writefile streamlit_app.py \n",
    "import streamlit as st\n",
    "import pandas as pd\n",
    "import matplotlib.pyplot as plt\n",
    "from sklearn.datasets import load_iris\n",
    "\n",
    "def main():\n",
    "    # Load dataset Iris\n",
    "    iris = load_iris()\n",
    "    iris_data = pd.DataFrame(iris.data, columns=iris.feature_names)\n",
    "    iris_data['species'] = [iris.target_names[i] for i in iris.target]\n",
    "\n",
    "    # Sidebar untuk form data diri\n",
    "    st.sidebar.header(\"Data Diri\")\n",
    "    with st.sidebar.form(\"Data Diri\"):\n",
    "        nama = st.text_input(\"Nama:\")\n",
    "        usia = st.number_input(\"Usia:\", min_value=1, max_value=120)\n",
    "        pekerjaan = st.text_input(\"Pekerjaan:\")\n",
    "        submit_button = st.form_submit_button(\"Submit\")\n",
    "\n",
    "        if submit_button:\n",
    "            st.sidebar.write(\"Nama:\", nama)\n",
    "            st.sidebar.write(\"Usia:\", usia)\n",
    "            st.sidebar.write(\"Pekerjaan:\", pekerjaan)\n",
    "\n",
    "    # Halaman utama\n",
    "    st.title(\"Visualisasi Data Iris\")\n",
    "\n",
    "    # Pilihan halaman\n",
    "    page = st.selectbox(\"Pilih jenis Iris:\", [\"Setosa\", \"Versicolor\", \"Virginica\"])\n",
    "\n",
    "    # Grafik untuk Setosa\n",
    "    if page == \"Setosa\":\n",
    "        st.header(\"Setosa\")\n",
    "        setosa_data = iris_data[iris_data['species'] == 'setosa']\n",
    "        \n",
    "        st.subheader(\"Scatter Plot\")\n",
    "        fig, ax = plt.subplots()\n",
    "        ax.scatter(setosa_data['sepal length (cm)'], setosa_data['sepal width (cm)'], c='blue', label='Setosa')\n",
    "        ax.set_xlabel('Sepal Length (cm)')\n",
    "        ax.set_ylabel('Sepal Width (cm)')\n",
    "        ax.legend()\n",
    "        st.pyplot(fig)\n",
    "        \n",
    "        st.subheader(\"Histogram\")\n",
    "        fig, ax = plt.subplots()\n",
    "        ax.hist(setosa_data['petal length (cm)'], bins=10, color='blue', label='Setosa')\n",
    "        ax.set_xlabel('Petal Length (cm)')\n",
    "        ax.set_ylabel('Frequency')\n",
    "        ax.legend()\n",
    "        st.pyplot(fig)\n",
    "\n",
    "    # Grafik untuk Versicolor\n",
    "    elif page == \"Versicolor\":\n",
    "        st.header(\"Versicolor\")\n",
    "        versicolor_data = iris_data[iris_data['species'] == 'versicolor']\n",
    "        \n",
    "        st.subheader(\"Scatter Plot\")\n",
    "        fig, ax = plt.subplots()\n",
    "        ax.scatter(versicolor_data['sepal length (cm)'], versicolor_data['sepal width (cm)'], c='green', label='Versicolor')\n",
    "        ax.set_xlabel('Sepal Length (cm)')\n",
    "        ax.set_ylabel('Sepal Width (cm)')\n",
    "        ax.legend()\n",
    "        st.pyplot(fig)\n",
    "        \n",
    "        st.subheader(\"Histogram\")\n",
    "        fig, ax = plt.subplots()\n",
    "        ax.hist(versicolor_data['petal length (cm)'], bins=10, color='green', label='Versicolor')\n",
    "        ax.set_xlabel('Petal Length (cm)')\n",
    "        ax.set_ylabel('Frequency')\n",
    "        ax.legend()\n",
    "        st.pyplot(fig)\n",
    "\n",
    "    # Grafik untuk Virginica\n",
    "    elif page == \"Virginica\":\n",
    "        st.header(\"Virginica\")\n",
    "        virginica_data = iris_data[iris_data['species'] == 'virginica']\n",
    "        \n",
    "        st.subheader(\"Scatter Plot\")\n",
    "        fig, ax = plt.subplots()\n",
    "        ax.scatter(virginica_data['sepal length (cm)'], virginica_data['sepal width (cm)'], c='red', label='Virginica')\n",
    "        ax.set_xlabel('Sepal Length (cm)')\n",
    "        ax.set_ylabel('Sepal Width (cm)')\n",
    "        ax.legend()\n",
    "        st.pyplot(fig)\n",
    "        \n",
    "        st.subheader(\"Histogram\")\n",
    "        fig, ax = plt.subplots()\n",
    "        ax.hist(virginica_data['petal length (cm)'], bins=10, color='red', label='Virginica')\n",
    "        ax.set_xlabel('Petal Length (cm)')\n",
    "        ax.set_ylabel('Frequency')\n",
    "        ax.legend()\n",
    "        st.pyplot(fig)\n",
    "\n",
    "if __name__ == '__main__':\n",
    "    main()\n"
   ]
  },
  {
   "cell_type": "markdown",
   "id": "69ojcK998469",
   "metadata": {
    "id": "69ojcK998469"
   },
   "source": [
    "### <div style=\"background-color: #63ebc6;font-family: 'Roboto', sans-serif;border-radius: 10px; padding: 12px;color:#ffffff; line-height: .5;\"> 2.7.Miscelanous  </div>\n",
    "\n",
    "\n",
    "\n"
   ]
  },
  {
   "cell_type": "markdown",
   "id": "6803f7d7",
   "metadata": {},
   "source": [
    "## <div style=\"background-color: #63ebc6;font-family: 'Roboto', sans-serif;border-radius: 10px; padding: 12px;color:#ffffff; line-height: .5;\"> Deploy Your Own DA Projects</div>\n",
    "\n",
    "Alternatives (Free)\n",
    "\n",
    "|  No | URL  |Need to Insert Card Data |  \n",
    "|---|---|---|\n",
    "|  1 |https://www.heroku.com   |No   |\n",
    "|  2. | https://render.com/  |  Yes |\n",
    "|   3. |  https://app.daisi.io/ |No   |\n",
    "|   3. |  Streamlit Creating Account |No   |"
   ]
  },
  {
   "cell_type": "markdown",
   "id": "02ac257b",
   "metadata": {
    "id": "02ac257b"
   },
   "source": [
    "## <div style=\"background-color: #63ebc6;font-family: 'Roboto', sans-serif;border-radius: 10px; padding: 12px;color:#ffffff; line-height: .5;\"> Reference</div>\n",
    "\n",
    "1. Running Streamlit from Google Collab : https://medium.com/@jcharistech/how-to-run-streamlit-apps-from-colab-29b969a1bdfc\n",
    "2. Running Streamlit on Google Collab without ngrok https://www.youtube.com/watch?v=NEhrkeF2o_M"
   ]
  },
  {
   "cell_type": "markdown",
   "id": "7a763ccd",
   "metadata": {},
   "source": [
    "## beta 1"
   ]
  },
  {
   "cell_type": "code",
   "execution_count": 16,
   "id": "0604d9f6",
   "metadata": {
    "id": "0604d9f6"
   },
   "outputs": [
    {
     "name": "stdout",
     "output_type": "stream",
     "text": [
      "Overwriting streamlit_app.py\n"
     ]
    }
   ],
   "source": [
    "%%writefile streamlit_app.py\n",
    "import streamlit as st\n",
    "import pandas as pd\n",
    "import matplotlib.pyplot as plt\n",
    "from sklearn.datasets import load_iris\n",
    "\n",
    "# Set theme to change sidebar color\n",
    "st.set_page_config(\n",
    "    page_title=\"Iris Data Visualisation\",\n",
    "    layout=\"wide\",\n",
    "    initial_sidebar_state=\"expanded\"\n",
    ")\n",
    "\n",
    "# Custom CSS to change the color of the sidebar\n",
    "st.markdown(\n",
    "    \"\"\"\n",
    "    <style>\n",
    "    /* Mengubah warna sidebar */\n",
    "    .css-1lcbmhc {\n",
    "        background-color: #FFA500 !important; /* Oranye */\n",
    "    }\n",
    "    .css-18e3th9 {\n",
    "        padding-top: 3rem !important;\n",
    "    }\n",
    "    .css-18ni7ap {\n",
    "        padding: 1.5rem 1rem 0 !important;\n",
    "    }\n",
    "    </style>\n",
    "    \"\"\",\n",
    "    unsafe_allow_html=True\n",
    ")\n",
    "\n",
    "def main():\n",
    "    # Load dataset Iris\n",
    "    iris = load_iris()\n",
    "    iris_data = pd.DataFrame(iris.data, columns=iris.feature_names)\n",
    "    iris_data['species'] = [iris.target_names[i] for i in iris.target]\n",
    "\n",
    "    # Menampilkan judul halaman utama\n",
    "    st.title(\"Visualisasi Data Iris\")\n",
    "\n",
    "    # Pilihan halaman dengan tabs\n",
    "    st.sidebar.header(\"Navigasi\")\n",
    "    tab = st.sidebar.radio(\"Pilih halaman:\", [\"Setosa\", \"Versicolor\", \"Virginica\", \"Show Data\"])\n",
    "\n",
    "    # Grafik untuk Setosa\n",
    "    if tab == \"Setosa\":\n",
    "        st.header(\"Setosa\")\n",
    "        setosa_data = iris_data[iris_data['species'] == 'setosa']\n",
    "        \n",
    "        st.subheader(\"Scatter Plot\")\n",
    "        fig, ax = plt.subplots()\n",
    "        ax.scatter(setosa_data['sepal length (cm)'], setosa_data['sepal width (cm)'], c='blue', label='Setosa')\n",
    "        ax.set_xlabel('Sepal Length (cm)')\n",
    "        ax.set_ylabel('Sepal Width (cm)')\n",
    "        ax.legend()\n",
    "        st.pyplot(fig)\n",
    "        \n",
    "        st.subheader(\"Histogram\")\n",
    "        fig, ax = plt.subplots()\n",
    "        ax.hist(setosa_data['petal length (cm)'], bins=10, color='blue', label='Setosa')\n",
    "        ax.set_xlabel('Petal Length (cm)')\n",
    "        ax.set_ylabel('Frequency')\n",
    "        ax.legend()\n",
    "        st.pyplot(fig)\n",
    "\n",
    "    # Grafik untuk Versicolor\n",
    "    elif tab == \"Versicolor\":\n",
    "        st.header(\"Versicolor\")\n",
    "        versicolor_data = iris_data[iris_data['species'] == 'versicolor']\n",
    "        \n",
    "        st.subheader(\"Scatter Plot\")\n",
    "        fig, ax = plt.subplots()\n",
    "        ax.scatter(versicolor_data['sepal length (cm)'], versicolor_data['sepal width (cm)'], c='green', label='Versicolor')\n",
    "        ax.set_xlabel('Sepal Length (cm)')\n",
    "        ax.set_ylabel('Sepal Width (cm)')\n",
    "        ax.legend()\n",
    "        st.pyplot(fig)\n",
    "        \n",
    "        st.subheader(\"Histogram\")\n",
    "        fig, ax = plt.subplots()\n",
    "        ax.hist(versicolor_data['petal length (cm)'], bins=10, color='green', label='Versicolor')\n",
    "        ax.set_xlabel('Petal Length (cm)')\n",
    "        ax.set_ylabel('Frequency')\n",
    "        ax.legend()\n",
    "        st.pyplot(fig)\n",
    "\n",
    "    # Grafik untuk Virginica\n",
    "    elif tab == \"Virginica\":\n",
    "        st.header(\"Virginica\")\n",
    "        virginica_data = iris_data[iris_data['species'] == 'virginica']\n",
    "        \n",
    "        st.subheader(\"Scatter Plot\")\n",
    "        fig, ax = plt.subplots()\n",
    "        ax.scatter(virginica_data['sepal length (cm)'], virginica_data['sepal width (cm)'], c='red', label='Virginica')\n",
    "        ax.set_xlabel('Sepal Length (cm)')\n",
    "        ax.set_ylabel('Sepal Width (cm)')\n",
    "        ax.legend()\n",
    "        st.pyplot(fig)\n",
    "        \n",
    "        st.subheader(\"Histogram\")\n",
    "        fig, ax = plt.subplots()\n",
    "        ax.hist(virginica_data['petal length (cm)'], bins=10, color='red', label='Virginica')\n",
    "        ax.set_xlabel('Petal Length (cm)')\n",
    "        ax.set_ylabel('Frequency')\n",
    "        ax.legend()\n",
    "        st.pyplot(fig)\n",
    "\n",
    "    # Halaman untuk Show Data dengan filter\n",
    "    elif tab == \"Show Data\":\n",
    "        st.header(\"Show Data Iris\")\n",
    "\n",
    "        # Filter species\n",
    "        species_tab = st.radio(\"Filter by Species:\", options=[\"All\", \"Setosa\", \"Versicolor\", \"Virginica\"])\n",
    "        if species_tab == \"Setosa\":\n",
    "            filtered_data = iris_data[iris_data['species'] == 'setosa']\n",
    "        elif species_tab == \"Versicolor\":\n",
    "            filtered_data = iris_data[iris_data['species'] == 'versicolor']\n",
    "        elif species_tab == \"Virginica\":\n",
    "            filtered_data = iris_data[iris_data['species'] == 'virginica']\n",
    "        else:\n",
    "            filtered_data = iris_data\n",
    "\n",
    "        # Filter numeric columns\n",
    "        col1, col2, col3, col4 = st.columns(4)\n",
    "        \n",
    "        with col1:\n",
    "            min_sepal_length, max_sepal_length = st.slider(\n",
    "                \"Sepal Length (cm)\", \n",
    "                float(filtered_data['sepal length (cm)'].min()), \n",
    "                float(filtered_data['sepal length (cm)'].max()), \n",
    "                (float(filtered_data['sepal length (cm)'].min()), float(filtered_data['sepal length (cm)'].max()))\n",
    "            )\n",
    "        \n",
    "        with col2:\n",
    "            min_sepal_width, max_sepal_width = st.slider(\n",
    "                \"Sepal Width (cm)\", \n",
    "                float(filtered_data['sepal width (cm)'].min()), \n",
    "                float(filtered_data['sepal width (cm)'].max()), \n",
    "                (float(filtered_data['sepal width (cm)'].min()), float(filtered_data['sepal width (cm)'].max()))\n",
    "            )\n",
    "        \n",
    "        with col3:\n",
    "            min_petal_length, max_petal_length = st.slider(\n",
    "                \"Petal Length (cm)\", \n",
    "                float(filtered_data['petal length (cm)'].min()), \n",
    "                float(filtered_data['petal length (cm)'].max()), \n",
    "                (float(filtered_data['petal length (cm)'].min()), float(filtered_data['petal length (cm)'].max()))\n",
    "            )\n",
    "        \n",
    "        with col4:\n",
    "            min_petal_width, max_petal_width = st.slider(\n",
    "                \"Petal Width (cm)\", \n",
    "                float(filtered_data['petal width (cm)'].min()), \n",
    "                float(filtered_data['petal width (cm)'].max()), \n",
    "                (float(filtered_data['petal width (cm)'].min()), float(filtered_data['petal width (cm)'].max()))\n",
    "            )\n",
    "\n",
    "        # Apply filters\n",
    "        filtered_data = filtered_data[\n",
    "            (filtered_data['sepal length (cm)'] >= min_sepal_length) & (filtered_data['sepal length (cm)'] <= max_sepal_length) &\n",
    "            (filtered_data['sepal width (cm)'] >= min_sepal_width) & (filtered_data['sepal width (cm)'] <= max_sepal_width) &\n",
    "            (filtered_data['petal length (cm)'] >= min_petal_length) & (filtered_data['petal length (cm)'] <= max_petal_length) &\n",
    "            (filtered_data['petal width (cm)'] >= min_petal_width) & (filtered_data['petal width (cm)'] <= max_petal_width)\n",
    "        ]\n",
    "\n",
    "        st.write(filtered_data)\n",
    "\n",
    "if __name__ == '__main__':\n",
    "    main()\n"
   ]
  },
  {
   "cell_type": "markdown",
   "id": "a3312485",
   "metadata": {},
   "source": [
    "## plotly"
   ]
  },
  {
   "cell_type": "code",
   "execution_count": 27,
   "id": "ab66da8d",
   "metadata": {},
   "outputs": [
    {
     "name": "stdout",
     "output_type": "stream",
     "text": [
      "Overwriting streamlit_app.py\n"
     ]
    }
   ],
   "source": [
    "%%writefile streamlit_app.py\n",
    "import streamlit as st\n",
    "import pandas as pd\n",
    "import numpy as np\n",
    "import plotly.express as px\n",
    "from sklearn.datasets import load_iris\n",
    "from prediction import predict\n",
    "\n",
    "# Mengatur konfigurasi halaman\n",
    "st.set_page_config(\n",
    "    page_title=\"Iris Data Visualisation\",\n",
    "    layout=\"wide\",\n",
    "    initial_sidebar_state=\"expanded\"\n",
    ")\n",
    "\n",
    "# Custom CSS untuk mengubah warna sidebar\n",
    "st.markdown(\n",
    "    \"\"\"\n",
    "    <style>\n",
    "    /* Mengubah warna sidebar */\n",
    "    .css-1lcbmhc {\n",
    "        background-color: #FFA500 !important; /* Oranye */\n",
    "    }\n",
    "    .css-18e3th9 {\n",
    "        padding-top: 3rem !important;\n",
    "    }\n",
    "    .css-18ni7ap {\n",
    "        padding: 1.5rem 1rem 0 !important;\n",
    "    }\n",
    "    </style>\n",
    "    \"\"\",\n",
    "    unsafe_allow_html=True\n",
    ")\n",
    "\n",
    "def main():\n",
    "    # Load dataset Iris\n",
    "    iris = load_iris()\n",
    "    iris_data = pd.DataFrame(iris.data, columns=iris.feature_names)\n",
    "    iris_data['species'] = [iris.target_names[i] for i in iris.target]\n",
    "\n",
    "    # Pilihan halaman dengan tabs\n",
    "    tab = st.sidebar.radio(\"Pilih halaman:\", [\"Iris Data\", \"Visualisasi\", \"Prediction\"])\n",
    "\n",
    "    # Halaman untuk Show Data dengan filter\n",
    "    if tab == \"Iris Data\":\n",
    "        st.header(\"Iris Dataset\")\n",
    "\n",
    "        # Filter species\n",
    "        species_tab = st.radio(\"Filter by Species:\", options=[\"All\", \"Setosa\", \"Versicolor\", \"Virginica\"])\n",
    "        if species_tab == \"Setosa\":\n",
    "            filtered_data = iris_data[iris_data['species'] == 'setosa']\n",
    "        elif species_tab == \"Versicolor\":\n",
    "            filtered_data = iris_data[iris_data['species'] == 'versicolor']\n",
    "        elif species_tab == \"Virginica\":\n",
    "            filtered_data = iris_data[iris_data['species'] == 'virginica']\n",
    "        else:\n",
    "            filtered_data = iris_data\n",
    "\n",
    "        # Filter numeric columns\n",
    "        col1, col2, col3, col4 = st.columns(4)\n",
    "        \n",
    "        with col1:\n",
    "            min_sepal_length, max_sepal_length = st.slider(\n",
    "                \"Sepal Length (cm)\", \n",
    "                float(filtered_data['sepal length (cm)'].min()), \n",
    "                float(filtered_data['sepal length (cm)'].max()), \n",
    "                (float(filtered_data['sepal length (cm)'].min()), float(filtered_data['sepal length (cm)'].max()))\n",
    "            )\n",
    "        \n",
    "        with col2:\n",
    "            min_sepal_width, max_sepal_width = st.slider(\n",
    "                \"Sepal Width (cm)\", \n",
    "                float(filtered_data['sepal width (cm)'].min()), \n",
    "                float(filtered_data['sepal width (cm)'].max()), \n",
    "                (float(filtered_data['sepal width (cm)'].min()), float(filtered_data['sepal width (cm)'].max()))\n",
    "            )\n",
    "        \n",
    "        with col3:\n",
    "            min_petal_length, max_petal_length = st.slider(\n",
    "                \"Petal Length (cm)\", \n",
    "                float(filtered_data['petal length (cm)'].min()), \n",
    "                float(filtered_data['petal length (cm)'].max()), \n",
    "                (float(filtered_data['petal length (cm)'].min()), float(filtered_data['petal length (cm)'].max()))\n",
    "            )\n",
    "        \n",
    "        with col4:\n",
    "            min_petal_width, max_petal_width = st.slider(\n",
    "                \"Petal Width (cm)\", \n",
    "                float(filtered_data['petal width (cm)'].min()), \n",
    "                float(filtered_data['petal width (cm)'].max()), \n",
    "                (float(filtered_data['petal width (cm)'].min()), float(filtered_data['petal width (cm)'].max()))\n",
    "            )\n",
    "\n",
    "        # Apply filters\n",
    "        filtered_data = filtered_data[\n",
    "            (filtered_data['sepal length (cm)'] >= min_sepal_length) & (filtered_data['sepal length (cm)'] <= max_sepal_length) &\n",
    "            (filtered_data['sepal width (cm)'] >= min_sepal_width) & (filtered_data['sepal width (cm)'] <= max_sepal_width) &\n",
    "            (filtered_data['petal length (cm)'] >= min_petal_length) & (filtered_data['petal length (cm)'] <= max_petal_length) &\n",
    "            (filtered_data['petal width (cm)'] >= min_petal_width) & (filtered_data['petal width (cm)'] <= max_petal_width)\n",
    "        ]\n",
    "\n",
    "        st.write(filtered_data)\n",
    "        \n",
    "    # Visualisasi Species dengan filter\n",
    "    elif tab == \"Visualisasi\":\n",
    "        st.header(\"Visualisasi Data Iris\")\n",
    "        \n",
    "        # Pilih spesies untuk visualisasi\n",
    "        species_option = st.selectbox(\n",
    "            \"Pilih spesies:\",\n",
    "            options=[\"Setosa\", \"Versicolor\", \"Virginica\"],\n",
    "            index=0\n",
    "        )\n",
    "        \n",
    "        # Filter data berdasarkan spesies yang dipilih\n",
    "        species_data = iris_data[iris_data['species'] == species_option.lower()]\n",
    "\n",
    "        # Layout untuk scatter plot dan histogram (dua kolom)\n",
    "        col1, col2 = st.columns(2)\n",
    "\n",
    "        with col1:\n",
    "            st.subheader(\"Scatter Plot\")\n",
    "            col1, col2 = st.columns(2)\n",
    "\n",
    "            with col1:\n",
    "                st.subheader(\"Scatter Plot\")\n",
    "                x_option = st.selectbox(\n",
    "                    \"Pilih kolom untuk sumbu X:\",\n",
    "                    options=species_data.columns[:-1],  # Semua kolom kecuali 'species'\n",
    "                    index=0\n",
    "                )\n",
    "\n",
    "            with col2:\n",
    "                st.subheader(\"Scatter Plot\")\n",
    "                y_option = st.selectbox(\n",
    "                    \"Pilih kolom untuk sumbu Y:\",\n",
    "                    options=species_data.columns[:-1],  # Semua kolom kecuali 'species'\n",
    "                    index=1\n",
    "                )\n",
    "\n",
    "            fig = px.scatter(\n",
    "                species_data, \n",
    "                x=x_option, \n",
    "                y=y_option, \n",
    "                color=px.Constant(species_option),\n",
    "                labels={'color': 'Species'},\n",
    "                title=f\"Scatter Plot {x_option} vs {y_option} for {species_option}\"\n",
    "            )\n",
    "            \n",
    "            # Tentukan warna untuk setiap spesies\n",
    "            if species_option == \"Setosa\":\n",
    "                color = 'blue'\n",
    "            elif species_option == \"Versicolor\":\n",
    "                color = 'green'\n",
    "            else:\n",
    "                color = 'red'\n",
    "            \n",
    "            fig.update_traces(marker=dict(color=color))\n",
    "            st.plotly_chart(fig)\n",
    "\n",
    "        with col2:\n",
    "            st.subheader(\"Histogram\")\n",
    "            x_option = st.selectbox(\n",
    "                \"Pilih kolom untuk X-Axis:\",\n",
    "                options=species_data.columns[:-1],  # Semua kolom kecuali 'species'\n",
    "                index=0\n",
    "            )\n",
    "            \n",
    "            fig = px.histogram(\n",
    "                species_data, \n",
    "                x=x_option, \n",
    "                nbins=10, \n",
    "                title=f\"Histogram of {x_option} for {species_option}\",\n",
    "                labels={x_option: x_option, 'count': 'Frequency'}\n",
    "            )\n",
    "            fig.update_traces(marker_color=color)\n",
    "            st.plotly_chart(fig)\n",
    "\n",
    "    # Prediction Iris Species\n",
    "    elif tab == \"Prediction\":\n",
    "        species_mapping = {\n",
    "            0: {'name': 'Setosa', 'image': 'images/setosa.jpg'},\n",
    "            1: {'name': 'Versicolor', 'image': 'images/versicolor.jpg'},\n",
    "            2: {'name': 'Virginica', 'image': 'images/virginica.jpg'}\n",
    "        }\n",
    "\n",
    "        st.title('Prediksi Bunga Iris')\n",
    "        st.markdown('Machine Learning model untuk memprediksi spesies bunga iris \\\n",
    "             (setosa, versicolor, virginica) berdasarkan sepal/petal \\\n",
    "            dan length/width.')\n",
    "\n",
    "        col1, col2 = st.columns(2)\n",
    "\n",
    "        with col1:\n",
    "            st.text(\"Sepal characteristics\")\n",
    "            sepal_l = st.slider('Sepal lenght (cm)', 1.0, 8.0, 5.0)\n",
    "            sepal_w = st.slider('Sepal width (cm)', 2.0, 4.4, 3.0)\n",
    "\n",
    "        with col2:\n",
    "            st.text(\"Petal characteristics\")\n",
    "            petal_l = st.slider('Petal lenght (cm)', 1.0, 7.0, 3.5)\n",
    "            petal_w = st.slider('Petal width (cm)', 0.1, 2.5, 1.0)\n",
    "\n",
    "        st.text('')\n",
    "        if st.button(\"Predict type of Iris\"):\n",
    "            result = predict(np.array([[sepal_l, sepal_w, petal_l, petal_w]]))\n",
    "            species_info = species_mapping.get(result[0], {\"name\": \"Unknown\", \"image\": None})\n",
    "            species_name = species_info['name']\n",
    "            species_image = species_info['image']\n",
    "            \n",
    "            st.text(f\"The predicted species is: {species_name}\")\n",
    "            \n",
    "            if species_image:\n",
    "                st.image(species_image, caption=f\"{species_name} flower\", use_column_width=False)\n",
    "                st.text('')\n",
    "\n",
    "if __name__ == '__main__':\n",
    "    main()"
   ]
  },
  {
   "cell_type": "markdown",
   "id": "5159e22d",
   "metadata": {},
   "source": [
    "## Arrange"
   ]
  },
  {
   "cell_type": "code",
   "execution_count": 23,
   "id": "d48215ae",
   "metadata": {},
   "outputs": [
    {
     "name": "stdout",
     "output_type": "stream",
     "text": [
      "Overwriting streamlit_app.py\n"
     ]
    }
   ],
   "source": [
    "%%writefile streamlit_app.py\n",
    "import streamlit as st\n",
    "import pandas as pd\n",
    "import numpy as np\n",
    "import plotly.express as px\n",
    "from sklearn.datasets import load_iris\n",
    "from prediction import predict\n",
    "\n",
    "# Mengatur konfigurasi halaman\n",
    "st.set_page_config(\n",
    "    page_title=\"Iris Data Visualisation\",\n",
    "    layout=\"wide\",\n",
    "    initial_sidebar_state=\"expanded\"\n",
    ")\n",
    "\n",
    "# Custom CSS untuk mengubah warna sidebar\n",
    "st.markdown(\n",
    "    \"\"\"\n",
    "    <style>\n",
    "    /* Mengubah warna sidebar */\n",
    "    .css-1lcbmhc {\n",
    "        background-color: #FFA500 !important; /* Oranye */\n",
    "    }\n",
    "    .css-18e3th9 {\n",
    "        padding-top: 3rem !important;\n",
    "    }\n",
    "    .css-18ni7ap {\n",
    "        padding: 1.5rem 1rem 0 !important;\n",
    "    }\n",
    "    </style>\n",
    "    \"\"\",\n",
    "    unsafe_allow_html=True\n",
    ")\n",
    "\n",
    "def main():\n",
    "    # Load dataset Iris\n",
    "    iris = load_iris()\n",
    "    iris_data = pd.DataFrame(iris.data, columns=iris.feature_names)\n",
    "    iris_data['species'] = [iris.target_names[i] for i in iris.target]\n",
    "\n",
    "    # Pilihan halaman dengan tabs\n",
    "    tab = st.sidebar.radio(\"Pilih halaman:\", [\"Iris Data\", \"Setosa\", \"Versicolor\", \"Virginica\", \"Prediction\"])\n",
    "\n",
    "    # Halaman untuk Show Data dengan filter\n",
    "    if tab == \"Iris Data\":\n",
    "        st.header(\"Iris Dataset\")\n",
    "\n",
    "        # Filter species\n",
    "        species_tab = st.radio(\"Filter by Species:\", options=[\"All\", \"Setosa\", \"Versicolor\", \"Virginica\"])\n",
    "        if species_tab == \"Setosa\":\n",
    "            filtered_data = iris_data[iris_data['species'] == 'setosa']\n",
    "        elif species_tab == \"Versicolor\":\n",
    "            filtered_data = iris_data[iris_data['species'] == 'versicolor']\n",
    "        elif species_tab == \"Virginica\":\n",
    "            filtered_data = iris_data[iris_data['species'] == 'virginica']\n",
    "        else:\n",
    "            filtered_data = iris_data\n",
    "\n",
    "        # Filter numeric columns\n",
    "        col1, col2, col3, col4 = st.columns(4)\n",
    "        \n",
    "        with col1:\n",
    "            min_sepal_length, max_sepal_length = st.slider(\n",
    "                \"Sepal Length (cm)\", \n",
    "                float(filtered_data['sepal length (cm)'].min()), \n",
    "                float(filtered_data['sepal length (cm)'].max()), \n",
    "                (float(filtered_data['sepal length (cm)'].min()), float(filtered_data['sepal length (cm)'].max()))\n",
    "            )\n",
    "        \n",
    "        with col2:\n",
    "            min_sepal_width, max_sepal_width = st.slider(\n",
    "                \"Sepal Width (cm)\", \n",
    "                float(filtered_data['sepal width (cm)'].min()), \n",
    "                float(filtered_data['sepal width (cm)'].max()), \n",
    "                (float(filtered_data['sepal width (cm)'].min()), float(filtered_data['sepal width (cm)'].max()))\n",
    "            )\n",
    "        \n",
    "        with col3:\n",
    "            min_petal_length, max_petal_length = st.slider(\n",
    "                \"Petal Length (cm)\", \n",
    "                float(filtered_data['petal length (cm)'].min()), \n",
    "                float(filtered_data['petal length (cm)'].max()), \n",
    "                (float(filtered_data['petal length (cm)'].min()), float(filtered_data['petal length (cm)'].max()))\n",
    "            )\n",
    "        \n",
    "        with col4:\n",
    "            min_petal_width, max_petal_width = st.slider(\n",
    "                \"Petal Width (cm)\", \n",
    "                float(filtered_data['petal width (cm)'].min()), \n",
    "                float(filtered_data['petal width (cm)'].max()), \n",
    "                (float(filtered_data['petal width (cm)'].min()), float(filtered_data['petal width (cm)'].max()))\n",
    "            )\n",
    "\n",
    "        # Apply filters\n",
    "        filtered_data = filtered_data[\n",
    "            (filtered_data['sepal length (cm)'] >= min_sepal_length) & (filtered_data['sepal length (cm)'] <= max_sepal_length) &\n",
    "            (filtered_data['sepal width (cm)'] >= min_sepal_width) & (filtered_data['sepal width (cm)'] <= max_sepal_width) &\n",
    "            (filtered_data['petal length (cm)'] >= min_petal_length) & (filtered_data['petal length (cm)'] <= max_petal_length) &\n",
    "            (filtered_data['petal width (cm)'] >= min_petal_width) & (filtered_data['petal width (cm)'] <= max_petal_width)\n",
    "        ]\n",
    "\n",
    "        st.write(filtered_data)\n",
    "        \n",
    "    # Grafik untuk Setosa\n",
    "    elif tab == \"Setosa\":\n",
    "        st.header(\"Visualisasi Species Setosa\")\n",
    "        setosa_data = iris_data[iris_data['species'] == 'setosa']\n",
    "        \n",
    "        st.subheader(\"Scatter Plot\")\n",
    "        fig = px.scatter(\n",
    "            setosa_data, \n",
    "            x='sepal length (cm)', \n",
    "            y='sepal width (cm)', \n",
    "            color=px.Constant('Setosa'),\n",
    "            labels={'color': 'Species'},\n",
    "            title=\"Scatter Plot Sepal Setosa\"\n",
    "        )\n",
    "        fig.update_traces(marker=dict(color='blue'))\n",
    "        st.plotly_chart(fig)\n",
    "        \n",
    "        st.subheader(\"Histogram\")\n",
    "        x_option = st.selectbox(\n",
    "            \"Pilih kolom untuk X-Axis:\",\n",
    "            options=setosa_data.columns[:-1],  # Semua kolom kecuali 'species'\n",
    "            index=0\n",
    "        )\n",
    "        \n",
    "        fig = px.histogram(\n",
    "            setosa_data, \n",
    "            x=x_option, \n",
    "            nbins=10, \n",
    "            title=f\"Histogram of {x_option} for Setosa\",\n",
    "            labels={x_option: x_option, 'count': 'Frequency'}\n",
    "        )\n",
    "        fig.update_traces(marker_color='blue')\n",
    "        st.plotly_chart(fig)\n",
    "\n",
    "    # Grafik untuk Versicolor\n",
    "    elif tab == \"Versicolor\":\n",
    "        st.header(\"Visualisasi Species Versicolor\")\n",
    "        versicolor_data = iris_data[iris_data['species'] == 'versicolor']\n",
    "        \n",
    "        st.subheader(\"Scatter Plot\")\n",
    "        fig = px.scatter(\n",
    "            versicolor_data, \n",
    "            x='sepal length (cm)', \n",
    "            y='sepal width (cm)', \n",
    "            color=px.Constant('Versicolor'),\n",
    "            labels={'color': 'Species'},\n",
    "            title=\"Scatter Plot Sepal Versicolor\"\n",
    "        )\n",
    "        fig.update_traces(marker=dict(color='green'))\n",
    "        st.plotly_chart(fig)\n",
    "        \n",
    "        st.subheader(\"Histogram\")\n",
    "        x_option = st.selectbox(\n",
    "            \"Pilih kolom untuk X-Axis:\",\n",
    "            options=versicolor_data.columns[:-1],  # Semua kolom kecuali 'species'\n",
    "            index=0\n",
    "        )\n",
    "        \n",
    "        fig = px.histogram(\n",
    "            versicolor_data, \n",
    "            x=x_option, \n",
    "            nbins=10, \n",
    "            title=f\"Histogram of {x_option} for Versicolor\",\n",
    "            labels={x_option: x_option, 'count': 'Frequency'}\n",
    "        )\n",
    "        fig.update_traces(marker_color='green')\n",
    "        st.plotly_chart(fig)\n",
    "\n",
    "    # Grafik untuk Virginica\n",
    "    elif tab == \"Virginica\":\n",
    "        st.header(\"Visualisasi Species Virginica\")\n",
    "        virginica_data = iris_data[iris_data['species'] == 'virginica']\n",
    "        \n",
    "        st.subheader(\"Scatter Plot\")\n",
    "        fig = px.scatter(\n",
    "            virginica_data, \n",
    "            x='sepal length (cm)', \n",
    "            y='sepal width (cm)', \n",
    "            color=px.Constant('Virginica'),\n",
    "            labels={'color': 'Species'},\n",
    "            title=\"Scatter Plot Sepal Virginica\"\n",
    "        )\n",
    "        fig.update_traces(marker=dict(color='red'))\n",
    "        st.plotly_chart(fig)\n",
    "        \n",
    "        st.subheader(\"Histogram\")\n",
    "        x_option = st.selectbox(\n",
    "            \"Pilih kolom untuk X-Axis:\",\n",
    "            options=virginica_data.columns[:-1],  # Semua kolom kecuali 'species'\n",
    "            index=0\n",
    "        )\n",
    "        \n",
    "        fig = px.histogram(\n",
    "            virginica_data, \n",
    "            x=x_option, \n",
    "            nbins=10, \n",
    "            title=f\"Histogram of {x_option} for Virginica\",\n",
    "            labels={x_option: x_option, 'count': 'Frequency'}\n",
    "        )\n",
    "        fig.update_traces(marker_color='red')\n",
    "        st.plotly_chart(fig)\n",
    "\n",
    "    # Prediction Iris Species\n",
    "    elif tab == \"Prediction\":\n",
    "        species_mapping = {\n",
    "                            0: {'name': 'Setosa', 'image': 'images/setosa.jpg'},\n",
    "                            1: {'name': 'Versicolor', 'image': 'images/versicolor.jpg'},\n",
    "                            2: {'name': 'Virginica', 'image': 'images/virginica.jpg'}\n",
    "                        }\n",
    "\n",
    "        st.title('Prediksi Bunga Iris')\n",
    "        st.markdown('Machine Learning model untuk memprediksi spesies bunga iris \\\n",
    "             (setosa, versicolor, virginica) berdasarkan sepal/petal \\\n",
    "            and length/width.')\n",
    "\n",
    "        col1, col2 = st.columns(2)\n",
    "\n",
    "        with col1:\n",
    "            st.text(\"Sepal characteristics\")\n",
    "            sepal_l = st.slider('Sepal lenght (cm)', 1.0, 8.0, 0.5)\n",
    "            sepal_w = st.slider('Sepal width (cm)', 2.0, 4.4, 0.5)\n",
    "\n",
    "        with col2:\n",
    "            st.text(\"Petal characteristics\")\n",
    "            petal_l = st.slider('Petal lenght (cm)', 1.0, 7.0, 0.5)\n",
    "            petal_w = st.slider('Petal width (cm)', 0.1, 2.5, 0.5)\n",
    "\n",
    "        st.text('')\n",
    "        if st.button(\"Predict type of Iris\"):\n",
    "            result = predict(np.array([[sepal_l, sepal_w, petal_l, petal_w]]))\n",
    "            species_info = species_mapping.get(result[0], {\"name\": \"Unknown\", \"image\": None})\n",
    "            species_name = species_info['name']\n",
    "            species_image = species_info['image']\n",
    "            \n",
    "            st.text(f\"The predicted species is: {species_name}\")\n",
    "            \n",
    "            if species_image:\n",
    "                st.image(species_image, caption=f\"{species_name} flower\", use_column_width=False)\n",
    "                st.text('')\n",
    "\n",
    "if __name__ == '__main__':\n",
    "    main()"
   ]
  },
  {
   "cell_type": "code",
   "execution_count": null,
   "id": "d255c67f",
   "metadata": {},
   "outputs": [],
   "source": []
  }
 ],
 "metadata": {
  "colab": {
   "collapsed_sections": [],
   "provenance": []
  },
  "kernelspec": {
   "display_name": "Python 3",
   "language": "python",
   "name": "python3"
  },
  "language_info": {
   "codemirror_mode": {
    "name": "ipython",
    "version": 3
   },
   "file_extension": ".py",
   "mimetype": "text/x-python",
   "name": "python",
   "nbconvert_exporter": "python",
   "pygments_lexer": "ipython3",
   "version": "3.11.9"
  },
  "latex_envs": {
   "LaTeX_envs_menu_present": true,
   "autoclose": true,
   "autocomplete": true,
   "bibliofile": "biblio.bib",
   "cite_by": "apalike",
   "current_citInitial": 1,
   "eqLabelWithNumbers": true,
   "eqNumInitial": 1,
   "hotkeys": {
    "equation": "Ctrl-E",
    "itemize": "Ctrl-I"
   },
   "labels_anchors": false,
   "latex_user_defs": false,
   "report_style_numbering": true,
   "user_envs_cfg": true
  },
  "toc": {
   "base_numbering": 1,
   "nav_menu": {},
   "number_sections": true,
   "sideBar": true,
   "skip_h1_title": false,
   "title_cell": "Table of Contents",
   "title_sidebar": "Contents",
   "toc_cell": false,
   "toc_position": {},
   "toc_section_display": true,
   "toc_window_display": false
  }
 },
 "nbformat": 4,
 "nbformat_minor": 5
}
